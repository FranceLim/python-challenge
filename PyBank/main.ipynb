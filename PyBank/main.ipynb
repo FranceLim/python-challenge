{
 "cells": [
  {
   "cell_type": "code",
   "execution_count": 5,
   "metadata": {},
   "outputs": [],
   "source": [
    "# Start by importing\n",
    "import os\n",
    "import csv\n",
    "\n",
    "# Set path\n",
    "path = os.path.join('Resources', 'budget_data.csv')"
   ]
  },
  {
   "cell_type": "code",
   "execution_count": 6,
   "metadata": {},
   "outputs": [],
   "source": [
    "# Create a list to store the data\n",
    "budget_data = []\n",
    "\n",
    "# Define Variables\n",
    "total_months = []\n",
    "change_profit_losses = []\n",
    "\n",
    "count_months = 0\n",
    "net_profit_loss = 0\n",
    "previous_month_profit_loss = 0\n",
    "current_month_profit_loss = 0\n",
    "profit_loss_change = 0\n",
    "\n",
    "\n",
    "# Open and read CSV \n",
    "with open(path) as csvfile:\n",
    "    csvreader = csv.reader(csvfile, delimiter=\",\")\n",
    "\n",
    "    # Skip the header label\n",
    "    header = next(csvreader)  \n",
    "\n",
    "    for row in csvreader: \n",
    "        \n",
    "        # Count of months\n",
    "        count_months += 1\n",
    "\n",
    "        # Net total amount of profit/loss\n",
    "        current_month_profit_loss = int(row[1])\n",
    "        net_profit_loss += current_month_profit_loss\n",
    "\n",
    "        if (count_months == 1):\n",
    "            previous_month_profit_loss = current_month_profit_loss\n",
    "            continue\n",
    "\n",
    "        else:\n",
    "\n",
    "            # Change in profit loss \n",
    "            change_profit_loss = current_month_profit_loss - previous_month_profit_loss\n",
    "\n",
    "            # Append each month to the months[]\n",
    "            total_months.append(row[0])\n",
    "\n",
    "            # Append each change_profit_losses to the change_profit_losses[]\n",
    "            change_profit_losses.append(change_profit_loss)\n",
    "\n",
    "            # Make the current_month_loss to be previous_month_profit_loss for the next loop\n",
    "            previous_month_profit_loss = current_month_profit_loss\n",
    "\n",
    "    # Sum and average of the changes in profit and loss\n",
    "    sum_profit_loss = sum(change_profit_losses)\n",
    "    avg_profit_loss = round(sum_profit_loss/(count_months - 1), 2)\n",
    "\n",
    "    # highest and lowest changes in profit and loss\n",
    "    max_change = max(change_profit_losses)\n",
    "    min_change = min(change_profit_losses)\n",
    "\n",
    "    # Locate the index value of highest and lowest changes in profit and loss\n",
    "    highest_month_index = change_profit_losses.index(max_change)\n",
    "    lowest_month_index = change_profit_losses.index(min_change)\n",
    "\n",
    "    # Assign best and worst month\n",
    "    best_month = total_months[highest_month_index]\n",
    "    worst_month = total_months[lowest_month_index]\n",
    "\n",
    "\n",
    "\n"
   ]
  },
  {
   "cell_type": "code",
   "execution_count": 3,
   "metadata": {},
   "outputs": [],
   "source": [
    "#Print to a text file: financial_analysis.txt\n",
    "with open('financial_analysis.txt', 'w') as text:\n",
    "    text.write(\"Financial Analysis\\n\")\n",
    "    text.write(\"----------------------------\\n\")\n",
    "    text.write(f\"Total Months:  {count_months}\\n\")\n",
    "    text.write(f\"Total:  ${net_profit_loss}\\n\")\n",
    "    text.write(f\"Average Change:  ${avg_profit_loss}\\n\")\n",
    "    text.write(f\"Greatest Increase in Profits:  {best_month} (${max_change})\\n\")\n",
    "    text.write(f\"Greatest Decrease in Losses:  {worst_month} (${min_change})\\n\")"
   ]
  },
  {
   "cell_type": "code",
   "execution_count": 4,
   "metadata": {},
   "outputs": [
    {
     "name": "stdout",
     "output_type": "stream",
     "text": [
      "Financial Analysis\n",
      "----------------------------\n",
      "Total Months:  86\n",
      "Total:  $22564198\n",
      "Average Change:  $-8311.11\n",
      "Greatest Increase in Profits:  Aug-16 ($1862002)\n",
      "Greatest Decrease in Losses:  Feb-14 ($-1825558)\n"
     ]
    }
   ],
   "source": [
    "#Print the analysis to the terminal\n",
    "print(\"Financial Analysis\")\n",
    "print(\"----------------------------\")\n",
    "print(f\"Total Months:  {count_months}\")\n",
    "print(f\"Total:  ${net_profit_loss}\")\n",
    "print(f\"Average Change:  ${avg_profit_loss}\")\n",
    "print(f\"Greatest Increase in Profits:  {best_month} (${max_change})\")\n",
    "print(f\"Greatest Decrease in Losses:  {worst_month} (${min_change})\")"
   ]
  }
 ],
 "metadata": {
  "kernelspec": {
   "display_name": "dev",
   "language": "python",
   "name": "python3"
  },
  "language_info": {
   "codemirror_mode": {
    "name": "ipython",
    "version": 3
   },
   "file_extension": ".py",
   "mimetype": "text/x-python",
   "name": "python",
   "nbconvert_exporter": "python",
   "pygments_lexer": "ipython3",
   "version": "3.10.13"
  }
 },
 "nbformat": 4,
 "nbformat_minor": 2
}
